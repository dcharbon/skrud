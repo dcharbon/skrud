{
 "cells": [
  {
   "cell_type": "markdown",
   "metadata": {},
   "source": [
    "# demo"
   ]
  },
  {
   "cell_type": "code",
   "execution_count": 1,
   "metadata": {},
   "outputs": [],
   "source": [
    "from uuid import uuid4\n",
    "import ipywidgets as W, traitlets as T\n",
    "from tornado import web, escape, httpclient\n",
    "from pyld import jsonld"
   ]
  },
  {
   "cell_type": "code",
   "execution_count": 2,
   "metadata": {},
   "outputs": [],
   "source": [
    "with __import__(\"importnb\").Notebook():\n",
    "    from WebApp import make_notebook_app\n",
    "    from ScrudWidgetHandler import ScrudWidgetHandler\n",
    "    from CPUTemperature import CPUTemperatureSlider\n",
    "    import ScrudTemperature"
   ]
  },
  {
   "cell_type": "code",
   "execution_count": 3,
   "metadata": {},
   "outputs": [
    {
     "name": "stderr",
     "output_type": "stream",
     "text": [
      "[I 16:44:43.581 NotebookApp] The port 8877 is already in use, trying another port.\n",
      "[I 16:44:43.625 NotebookApp] JupyterLab extension loaded from /home/weg/Documents/work/qs/skrud/envs/default/lib/python3.7/site-packages/jupyterlab\n",
      "[I 16:44:43.625 NotebookApp] JupyterLab application directory is /home/weg/Documents/work/qs/skrud/envs/default/share/jupyter/lab\n"
     ]
    }
   ],
   "source": [
    "app = make_notebook_app()"
   ]
  },
  {
   "cell_type": "markdown",
   "metadata": {},
   "source": [
    "Install the handlers"
   ]
  },
  {
   "cell_type": "code",
   "execution_count": 4,
   "metadata": {},
   "outputs": [],
   "source": [
    "full_url = app.display_url.split(\"?\")[0]"
   ]
  },
  {
   "cell_type": "code",
   "execution_count": 5,
   "metadata": {},
   "outputs": [],
   "source": [
    "app.web_app.add_handlers(\n",
    "    \".*\", \n",
    "    ScrudTemperature.default_handlers(full_url, app.base_url)\n",
    ")"
   ]
  },
  {
   "cell_type": "markdown",
   "metadata": {},
   "source": [
    "Trying it out\n",
    "\n",
    "> need to figure out what to do with the token, soon"
   ]
  },
  {
   "cell_type": "code",
   "execution_count": 6,
   "metadata": {},
   "outputs": [
    {
     "name": "stdout",
     "output_type": "stream",
     "text": [
      "http://localhost:8878/cpu-temp?token=f6b54fb6-b62b-4e60-8698-d7d3d9e45185\n"
     ]
    }
   ],
   "source": [
    "base_url = f\"{full_url}cpu-temp\"\n",
    "get_args = f\"?token={app.token}\"\n",
    "print(base_url + get_args)"
   ]
  },
  {
   "cell_type": "code",
   "execution_count": 7,
   "metadata": {},
   "outputs": [],
   "source": [
    "client = httpclient.AsyncHTTPClient()"
   ]
  },
  {
   "cell_type": "code",
   "execution_count": 8,
   "metadata": {},
   "outputs": [],
   "source": [
    "async def fetch(*bits, **fetch_args):\n",
    "    url = \"/\".join([base_url, *bits]) + get_args\n",
    "    r = await client.fetch(url, **fetch_args)\n",
    "    return escape.json_decode(r.body or \"null\"), dict(r.headers)"
   ]
  },
  {
   "cell_type": "code",
   "execution_count": 9,
   "metadata": {},
   "outputs": [
    {
     "data": {
      "text/plain": [
       "({'value': 68.0},\n",
       " {'Server': 'TornadoServer/5.1.1',\n",
       "  'Content-Type': 'application/json; charset=UTF-8',\n",
       "  'Date': 'Wed, 24 Apr 2019 20:44:47 GMT',\n",
       "  'X-Content-Type-Options': 'nosniff',\n",
       "  'Content-Security-Policy': \"frame-ancestors 'self'; report-uri /api/security/csp-report\",\n",
       "  'Access-Control-Allow-Origin': '',\n",
       "  'Link': '<http://localhost:8878/cpu-temp/@context>; rel=\"http://www.w3.org/ns/json-ld#context\"; type=\"application/ld+json\",<http://localhost:8878/cpu-temp/$schema>; rel=\"describedBy\"; type=\"application/json\"',\n",
       "  'Etag': '\"0a831c05b852350e18b9919e4a342e2e459e14e2\"',\n",
       "  'Content-Length': '15',\n",
       "  'Set-Cookie': 'username-localhost-8878=\"2|1:0|10:1556138687|23:username-localhost-8878|44:MDNjMTdmNzVlYWMwNGM5N2I5Yjg4NDc1ZGYwYjA0ZmE=|88df34da7f07f8da2a2cd9f6ee76de7b551248bfce459bd2325bd2dda9088c46\"; expires=Fri, 24 May 2019 20:44:47 GMT; HttpOnly; Path=/',\n",
       "  'Connection': 'close'})"
      ]
     },
     "execution_count": 9,
     "metadata": {},
     "output_type": "execute_result"
    }
   ],
   "source": [
    "doc, doc_headers = await fetch()\n",
    "doc, doc_headers"
   ]
  },
  {
   "cell_type": "code",
   "execution_count": 11,
   "metadata": {},
   "outputs": [
    {
     "data": {
      "text/plain": [
       "({'@context': {'qudt': 'http://qudt.org/schema/qudt#',\n",
       "   'value': {'@type': 'qudt:Temperature'}}},\n",
       " {'Server': 'TornadoServer/5.1.1',\n",
       "  'Content-Type': 'application/ld+json',\n",
       "  'Date': 'Wed, 24 Apr 2019 18:07:19 GMT',\n",
       "  'X-Content-Type-Options': 'nosniff',\n",
       "  'Content-Security-Policy': \"frame-ancestors 'self'; report-uri /api/security/csp-report\",\n",
       "  'Access-Control-Allow-Origin': '',\n",
       "  'Etag': '\"3a22431dd877a7596b053e971ee92ec327581965\"',\n",
       "  'Content-Length': '94',\n",
       "  'Set-Cookie': 'username-localhost-8877=\"2|1:0|10:1556129239|23:username-localhost-8877|44:NzZjOTA1Y2M2ZGU3NGY1NmE3OGE2N2ZlNzQwY2MwOTc=|26eed354d3dd776b0aaa0420b9a17ed2bddd81ca867df37f972fb41d92868b11\"; expires=Fri, 24 May 2019 18:07:19 GMT; HttpOnly; Path=/',\n",
       "  'Connection': 'close'})"
      ]
     },
     "execution_count": 11,
     "metadata": {},
     "output_type": "execute_result"
    }
   ],
   "source": [
    "ctx, ctx_headers = await fetch(\"@context\")\n",
    "ctx, ctx_headers"
   ]
  },
  {
   "cell_type": "code",
   "execution_count": 12,
   "metadata": {},
   "outputs": [
    {
     "data": {
      "text/plain": [
       "({'properties': {'value': {'type': 'number'}}},\n",
       " {'Server': 'TornadoServer/5.1.1',\n",
       "  'Content-Type': 'application/json',\n",
       "  'Date': 'Wed, 24 Apr 2019 18:07:23 GMT',\n",
       "  'X-Content-Type-Options': 'nosniff',\n",
       "  'Content-Security-Policy': \"frame-ancestors 'self'; report-uri /api/security/csp-report\",\n",
       "  'Access-Control-Allow-Origin': '',\n",
       "  'Etag': '\"6cd60d6db460b582f72601bd13b250025894bc05\"',\n",
       "  'Content-Length': '45',\n",
       "  'Set-Cookie': 'username-localhost-8877=\"2|1:0|10:1556129243|23:username-localhost-8877|44:NmVmNDE4YzZkZGJiNGQ4YjhiZjhkMmVkMzFjYjI4ZmQ=|8d31ac502ad0e5b27e9bc6ca843864d33908cc5fc0f04d414919ac27de2409dc\"; expires=Fri, 24 May 2019 18:07:23 GMT; HttpOnly; Path=/',\n",
       "  'Connection': 'close'})"
      ]
     },
     "execution_count": 12,
     "metadata": {},
     "output_type": "execute_result"
    },
    {
     "name": "stderr",
     "output_type": "stream",
     "text": [
      "[I 14:14:37.402 NotebookApp] 302 GET /cpu-temp/@context (::1) 1.07ms\n",
      "[I 14:15:59.756 NotebookApp] 302 GET /cpu-temp/@context (::1) 0.77ms\n",
      "[I 14:15:59.766 NotebookApp] 302 GET /cpu-temp/$schema (::1) 0.82ms\n",
      "[I 14:24:08.639 NotebookApp] 302 GET /cpu-temp (::1) 0.98ms\n",
      "[I 14:24:30.555 NotebookApp] 302 GET /cpu-temp (::1) 0.63ms\n"
     ]
    }
   ],
   "source": [
    "schema, schema_headers = await fetch(\"$schema\")\n",
    "schema, schema_headers"
   ]
  },
  {
   "cell_type": "code",
   "execution_count": null,
   "metadata": {},
   "outputs": [],
   "source": []
  }
 ],
 "metadata": {
  "kernelspec": {
   "display_name": "Python 3",
   "language": "python",
   "name": "python3"
  },
  "language_info": {
   "codemirror_mode": {
    "name": "ipython",
    "version": 3
   },
   "file_extension": ".py",
   "mimetype": "text/x-python",
   "name": "python",
   "nbconvert_exporter": "python",
   "pygments_lexer": "ipython3",
   "version": "3.7.3"
  }
 },
 "nbformat": 4,
 "nbformat_minor": 4
}
