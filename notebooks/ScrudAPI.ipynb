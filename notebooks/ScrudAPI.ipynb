{
 "cells": [
  {
   "cell_type": "markdown",
   "metadata": {},
   "source": [
    "# A SCRUD API \n",
    "A SCRUD API collects contexts, schemas, etc. and generates top-level discovery documents."
   ]
  },
  {
   "cell_type": "code",
   "execution_count": 9,
   "metadata": {},
   "outputs": [],
   "source": [
    "import traitlets as T\n",
    "import traitlets.config\n",
    "from tornado import web\n",
    "from notebook.base.handlers import IPythonHandler\n",
    "from notebook.utils import url_path_join as ujoin"
   ]
  },
  {
   "cell_type": "code",
   "execution_count": 15,
   "metadata": {},
   "outputs": [],
   "source": [
    "with __import__(\"importnb\").Notebook():\n",
    "    from ScrudHandler import ScrudHandler"
   ]
  },
  {
   "cell_type": "code",
   "execution_count": 13,
   "metadata": {},
   "outputs": [],
   "source": [
    "DOC_MIME = \"application/ld+json\"\n",
    "DOC_REL = \"http://www.w3.org/ns/hydra/core#apiDocumentation\""
   ]
  },
  {
   "cell_type": "code",
   "execution_count": 14,
   "metadata": {},
   "outputs": [],
   "source": [
    "context = {\n",
    "    \"hydra\": \"http://w3.org/ns/hydra/core#\"\n",
    "}"
   ]
  },
  {
   "cell_type": "code",
   "execution_count": 11,
   "metadata": {},
   "outputs": [],
   "source": [
    "class ScrudAPIDocHandler(ScrudHandler):\n",
    "    async def value(self):\n",
    "        return self.scrud.api_doc()"
   ]
  },
  {
   "cell_type": "code",
   "execution_count": 12,
   "metadata": {},
   "outputs": [],
   "source": [
    "class ScrudAPI(T.config.LoggingConfigurable):\n",
    "    full_url = T.Unicode()\n",
    "    base_url = T.Unicode()\n",
    "    tornado_app = T.Any()\n",
    "    prefix = T.Unicode(\"scrud\")\n",
    "    title = T.Unicode(\"SCRUD API\")\n",
    "    description = T.Unicode(\"A reference implementation of a SCRUD-ful API\")\n",
    "    supported_classes = T.Dict()\n",
    "    \n",
    "    def __init__(self, *args, **kwargs):\n",
    "        super().__init__(*args, **kwargs)\n",
    "        prefix = ujoin(self.prefix, \"doc\")\n",
    "        url = ujoin(self.base_url, prefix) + \"/?\"\n",
    "        self.tornado_app.add_handlers(\".*\", [(\n",
    "            url, \n",
    "            ScrudAPIDocHandler, \n",
    "            dict(scrud=self, prefix=\"doc\")\n",
    "        )])\n",
    "    \n",
    "    def headers(self):\n",
    "        return [(\n",
    "            \"Link\", \n",
    "            f'''<{self.doc_url}>; rel=\"{DOC_REL}\"; type=\"{DOC_MIME}\"'''\n",
    "        )]\n",
    "    \n",
    "    @property\n",
    "    def api_base(self):\n",
    "        return ujoin(self.base_url, self.prefix)\n",
    "    \n",
    "    @property\n",
    "    def api_url(self):\n",
    "        return ujoin(self.full_url, self.prefix)\n",
    "    \n",
    "    @property\n",
    "    def doc_url(self):\n",
    "        return ujoin(self.api_url, \"doc\")\n",
    "    \n",
    "    def supports_operation(self, rdf_class, *operations):\n",
    "        if rdf_class not in self.supported_classes:\n",
    "            self.supported_classes[rdf_class] = {\n",
    "                \"@id\": rdf_class,\n",
    "                \"supportedOperation\": []\n",
    "            }\n",
    "        self.supported_classes[rdf_class][\"supportedOperation\"].append(*operations)\n",
    "    \n",
    "    def api_doc(self):\n",
    "        return {\n",
    "            \"@type\": \"ApiDocumentation\",\n",
    "            \"@id\": self.doc_url,\n",
    "            \"supportedClass\": list(self.supported_classes.values())\n",
    "        }\n",
    "    \n",
    "    def add_handler(self, default_handlers):\n",
    "        self.tornado_app.add_handlers(\".*\", default_handlers(self))"
   ]
  }
 ],
 "metadata": {
  "kernelspec": {
   "display_name": "Python 3",
   "language": "python",
   "name": "python3"
  },
  "language_info": {
   "codemirror_mode": {
    "name": "ipython",
    "version": 3
   },
   "file_extension": ".py",
   "mimetype": "text/x-python",
   "name": "python",
   "nbconvert_exporter": "python",
   "pygments_lexer": "ipython3",
   "version": "3.7.3"
  }
 },
 "nbformat": 4,
 "nbformat_minor": 4
}
