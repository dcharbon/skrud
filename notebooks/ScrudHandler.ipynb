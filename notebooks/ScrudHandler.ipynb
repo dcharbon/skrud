{
 "cells": [
  {
   "cell_type": "markdown",
   "metadata": {},
   "source": [
    "# ScrudHandler\n",
    "A base handler for a SCRUD-compatible API"
   ]
  },
  {
   "cell_type": "markdown",
   "metadata": {},
   "source": [
    "> in a proped server config, we would expose a `register` method at the module level, or particpate in a `jupyter_config`"
   ]
  },
  {
   "cell_type": "code",
   "execution_count": 8,
   "metadata": {},
   "outputs": [],
   "source": [
    "from notebook.base.handlers import IPythonHandler\n",
    "from tornado import escape, web\n",
    "import asyncio, jsonschema"
   ]
  },
  {
   "cell_type": "code",
   "execution_count": null,
   "metadata": {},
   "outputs": [],
   "source": [
    "CTX_MIME = \"application/ld+json\"\n",
    "CTX_REL = \"http://www.w3.org/ns/json-ld#context\"\n",
    "CTX_DOC = \"@context\""
   ]
  },
  {
   "cell_type": "code",
   "execution_count": 6,
   "metadata": {},
   "outputs": [],
   "source": [
    "SCH_MIME = \"application/json\"\n",
    "SCH_REL = \"describedBy\"\n",
    "SCH_DOC = \"$schema\""
   ]
  },
  {
   "cell_type": "code",
   "execution_count": 7,
   "metadata": {},
   "outputs": [],
   "source": [
    "class ScrudHandler(IPythonHandler):\n",
    "    def initialize(self, url_base, *args, **kwargs):\n",
    "        super().initialize(*args, **kwargs)\n",
    "        self._url_base = url_base\n",
    "\n",
    "    @web.authenticated\n",
    "    async def get(self, doc=None):\n",
    "        self.make_headers(doc)\n",
    "        if doc == \"@context\":\n",
    "            self.finish(escape.json_encode(await self.context()))\n",
    "        elif doc == \"$schema\":\n",
    "            self.finish(escape.json_encode(await self.schema()))\n",
    "        else:\n",
    "            schema, context, frame, value = await asyncio.gather(\n",
    "                self.schema(), self.context(), self.frame(), self.value()\n",
    "            )\n",
    "\n",
    "            try:\n",
    "                jsonschema.validate(value, schema)\n",
    "                self.finish(value)\n",
    "            except Exception as err:\n",
    "                self.finish({\"errors\": [f\"{err}\"]})\n",
    "    \n",
    "    def make_headers(self, doc):\n",
    "        if doc == \"@context\":\n",
    "            self.set_header('Content-Type', CTX_MIME)\n",
    "        elif doc == \"$schema\":\n",
    "            self.set_header('Content-Type', SCH_MIME)\n",
    "        else:\n",
    "            self.add_header(\n",
    "                \"Link\", \n",
    "                f'''<{self._url_base}{CTX_DOC}>; rel=\"{CTX_REL}\"; type=\"{CTX_MIME}\"'''\n",
    "            )\n",
    "            self.add_header(\n",
    "                \"Link\", \n",
    "                f'''<{self._url_base}{SCH_DOC}>; rel=\"{SCH_REL}\"; type=\"{SCH_MIME}\"'''\n",
    "            )\n",
    "    \n",
    "    @web.authenticated\n",
    "    async def head(self, doc=None):\n",
    "        self.make_headers(doc)\n",
    "        \n",
    "    # SCRUD-specific values and documents\n",
    "    \n",
    "    async def value(self):\n",
    "        return None\n",
    "    \n",
    "    async def schema(self):\n",
    "        return {}\n",
    "    \n",
    "    async def frame(self):\n",
    "        return {}\n",
    "    \n",
    "    async def context(self):\n",
    "        return {}"
   ]
  }
 ],
 "metadata": {
  "kernelspec": {
   "display_name": "Python 3",
   "language": "python",
   "name": "python3"
  },
  "language_info": {
   "codemirror_mode": {
    "name": "ipython",
    "version": 3
   },
   "file_extension": ".py",
   "mimetype": "text/x-python",
   "name": "python",
   "nbconvert_exporter": "python",
   "pygments_lexer": "ipython3",
   "version": "3.7.3"
  }
 },
 "nbformat": 4,
 "nbformat_minor": 2
}
