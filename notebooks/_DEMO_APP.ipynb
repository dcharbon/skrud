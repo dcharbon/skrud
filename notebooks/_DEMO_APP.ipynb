{
 "cells": [
  {
   "cell_type": "code",
   "execution_count": 5,
   "metadata": {},
   "outputs": [],
   "source": [
    "import re, traitlets as T, ipywidgets as W\n",
    "from tornado import escape, httpclient, ioloop\n",
    "from pyld import jsonld\n",
    "from yaml import safe_dump"
   ]
  },
  {
   "cell_type": "code",
   "execution_count": 6,
   "metadata": {},
   "outputs": [],
   "source": [
    "RESPONSE = None"
   ]
  },
  {
   "cell_type": "code",
   "execution_count": 7,
   "metadata": {},
   "outputs": [],
   "source": [
    "class ScrudClient(W.Textarea):\n",
    "    value_parsed = T.Dict().tag(sync=True)\n",
    "    context = T.Dict().tag(sync=True)\n",
    "    schema = T.Dict().tag(sync=True)\n",
    "    url = T.Unicode().tag(sync=True)\n",
    "    headers = W.trait_types.TypedTuple(\n",
    "        trait=T.Tuple(T.Unicode(), T.Unicode())\n",
    "    ).tag(sync=True)\n",
    "    _client = T.Instance(httpclient.AsyncHTTPClient)\n",
    "    _token = T.Unicode()\n",
    "\n",
    "    @T.default(\"_client\")\n",
    "    def _default_client(self):\n",
    "        return httpclient.AsyncHTTPClient()\n",
    "        \n",
    "    @T.observe(\"url\")\n",
    "    def _on_url(self, _):\n",
    "        ioloop.IOLoop.instance().spawn_callback(lambda: self._do_fetch())\n",
    "    \n",
    "    def _client_headers(self):\n",
    "        return {\n",
    "            \"Authorization\": f\"token {self._token}\"\n",
    "        }\n",
    "        \n",
    "    async def _do_fetch(self):\n",
    "        try:\n",
    "            r = await self._client.fetch(self.url, headers=self._client_headers())\n",
    "        except Exception as err:\n",
    "            self.value = safe_dump({\"error\": f\"{err}\"})\n",
    "            return\n",
    "        \n",
    "        self.value_parsed = escape.json_decode(r.body)\n",
    "        self.value = safe_dump(self.value_parsed)\n",
    "        self.headers = list(r.headers.get_all())\n",
    "        for match in [\n",
    "            re.match(r'<(?P<href>.*)>.*rel=\"(?P<rel>[^\"]*)\"', link)\n",
    "            for link in r.headers.get_list(\"Link\")\n",
    "        ]:\n",
    "            if match is None:\n",
    "                return\n",
    "            groups = match.groupdict()\n",
    "            if groups[\"rel\"] == \"http://www.w3.org/ns/json-ld#context\":\n",
    "                try:\n",
    "                    self.context = escape.json_decode((await self._client.fetch(groups[\"href\"], \n",
    "                                                                                headers=self._client_headers()\n",
    "                                                                               )).body)\n",
    "                except Exception as err:\n",
    "                    self.context = {\"errors\": [f\"{err}\"]}\n",
    "            elif groups[\"rel\"] == \"describedBy\":\n",
    "                try:\n",
    "                    self.schema = escape.json_decode((await self._client.fetch(groups[\"href\"], \n",
    "                                                                                headers=self._client_headers())).body)\n",
    "                except Exception as err:\n",
    "                    self.schema = {\"errors\": [f\"{err}\"]}"
   ]
  },
  {
   "cell_type": "code",
   "execution_count": 8,
   "metadata": {},
   "outputs": [],
   "source": [
    "url = W.Text(\n",
    "    value=\"http://localhost:8877/cpu-temp\",\n",
    "    description=\"SCRUD URL\"\n",
    ")\n",
    "token = W.Text(\"98fc644e-ec60-4895-af96-e6a7657541e2\", description=\"Token\")\n",
    "client = ScrudClient(description=\"Document\", rows=16, layout=dict(width=\"100%\"))\n",
    "schema = W.Textarea(description=\"Schema\", rows=16, layout=dict(width=\"100%\"))\n",
    "context = W.Textarea(description=\"Context\", rows=16, layout=dict(width=\"100%\"))\n",
    "headers = W.Textarea(description=\"Headers\", rows=16, layout=dict(width=\"100%\"))"
   ]
  },
  {
   "cell_type": "code",
   "execution_count": 9,
   "metadata": {},
   "outputs": [],
   "source": [
    "T.dlink((client, \"schema\"), (schema, \"value\"), safe_dump)\n",
    "T.dlink((client, \"context\"), (context, \"value\"), safe_dump)\n",
    "T.dlink((client, \"headers\"), (headers, \"value\"), safe_dump)\n",
    "T.dlink((token, \"value\"), (client, \"_token\"))\n",
    "T.dlink((url, \"value\"), (client, \"url\"));"
   ]
  },
  {
   "cell_type": "code",
   "execution_count": 10,
   "metadata": {},
   "outputs": [
    {
     "data": {
      "application/vnd.jupyter.widget-view+json": {
       "model_id": "4da15cc4bd614abfa672e935aa8f01f1",
       "version_major": 2,
       "version_minor": 0
      },
      "text/plain": [
       "Accordion(children=(HBox(children=(Text(value='http://localhost:8877/cpu-temp', description='SCRUD URL'), Text…"
      ]
     },
     "metadata": {},
     "output_type": "display_data"
    }
   ],
   "source": [
    "acc = W.Accordion([\n",
    "    W.HBox([url, token]), \n",
    "    W.HBox([\n",
    "        client,\n",
    "        headers,\n",
    "        schema, \n",
    "        context\n",
    "    ]),\n",
    "])\n",
    "acc._titles = {i: k for i, k in enumerate([\"SCRUD Request\", \"SCRUD Documents\"])}\n",
    "acc"
   ]
  },
  {
   "cell_type": "code",
   "execution_count": 61,
   "metadata": {},
   "outputs": [
    {
     "data": {
      "text/plain": [
       "{'properties': {'value': {'type': 'number'}}}"
      ]
     },
     "execution_count": 61,
     "metadata": {},
     "output_type": "execute_result"
    }
   ],
   "source": [
    "client.schema"
   ]
  },
  {
   "cell_type": "code",
   "execution_count": 56,
   "metadata": {},
   "outputs": [],
   "source": [
    "# RESPONSE.headers.__dict__"
   ]
  }
 ],
 "metadata": {
  "kernelspec": {
   "display_name": "Python 3",
   "language": "python",
   "name": "python3"
  },
  "language_info": {
   "codemirror_mode": {
    "name": "ipython",
    "version": 3
   },
   "file_extension": ".py",
   "mimetype": "text/x-python",
   "name": "python",
   "nbconvert_exporter": "python",
   "pygments_lexer": "ipython3",
   "version": "3.7.3"
  }
 },
 "nbformat": 4,
 "nbformat_minor": 4
}
