{
 "cells": [
  {
   "cell_type": "markdown",
   "metadata": {},
   "source": [
    "# SKRUD Prototype API\n",
    "> A SKRUD API must implement a few headers, and be disciplined about its HTTP. This demo starts one inside your current app"
   ]
  },
  {
   "cell_type": "code",
   "execution_count": 1,
   "metadata": {},
   "outputs": [],
   "source": [
    "from uuid import uuid4\n",
    "import ipywidgets as W, traitlets as T\n",
    "from tornado import web, escape, httpclient\n",
    "from notebook.utils import url_path_join as ujoin\n",
    "from pyld import jsonld\n",
    "import pandas as pd"
   ]
  },
  {
   "cell_type": "code",
   "execution_count": 2,
   "metadata": {},
   "outputs": [],
   "source": [
    "with __import__(\"importnb\").Notebook():\n",
    "    from WebApp import make_notebook_app\n",
    "    from ScrudWidgetHandler import ScrudWidgetHandler\n",
    "    from ScrudTableHandler import ScrudTableHandler\n",
    "    from CPUTemperature import CPUTemperatureSlider\n",
    "    import ScrudTemperatureTable, ScrudTemperature\n",
    "    from ScrudAPI import ScrudAPI"
   ]
  },
  {
   "cell_type": "code",
   "execution_count": 3,
   "metadata": {},
   "outputs": [
    {
     "name": "stderr",
     "output_type": "stream",
     "text": [
      "[I 13:07:32.208 NotebookApp] The port 8877 is already in use, trying another port.\n",
      "[I 13:07:32.261 NotebookApp] JupyterLab extension loaded from /home/weg/Documents/work/qs/skrud/envs/default/lib/python3.7/site-packages/jupyterlab\n",
      "[I 13:07:32.262 NotebookApp] JupyterLab application directory is /home/weg/Documents/work/qs/skrud/envs/default/share/jupyter/lab\n"
     ]
    }
   ],
   "source": [
    "app = make_notebook_app()"
   ]
  },
  {
   "cell_type": "markdown",
   "metadata": {},
   "source": [
    "Install the handlers"
   ]
  },
  {
   "cell_type": "code",
   "execution_count": 4,
   "metadata": {},
   "outputs": [],
   "source": [
    "full_url = app.display_url.split(\"?\")[0]"
   ]
  },
  {
   "cell_type": "code",
   "execution_count": 5,
   "metadata": {},
   "outputs": [],
   "source": [
    "scrud = ScrudAPI(full_url=full_url, \n",
    "                 base_url=app.base_url,\n",
    "                 tornado_app=app.web_app,)"
   ]
  },
  {
   "cell_type": "code",
   "execution_count": 6,
   "metadata": {},
   "outputs": [],
   "source": [
    "scrud.add_handler(ScrudTemperature.default_handlers)\n",
    "scrud.add_handler(ScrudTemperatureTable.default_handlers)"
   ]
  },
  {
   "cell_type": "code",
   "execution_count": 7,
   "metadata": {},
   "outputs": [],
   "source": [
    "client = httpclient.AsyncHTTPClient()\n",
    "\n",
    "async def fetch(*bits, **fetch_args):\n",
    "    url = ujoin(scrud.api_url, *bits) + f\"?token={app.token}\"\n",
    "    print(url)\n",
    "    r = await client.fetch(url, **fetch_args)\n",
    "    return escape.json_decode(r.body or \"null\"), dict(r.headers)"
   ]
  }
 ],
 "metadata": {
  "kernelspec": {
   "display_name": "Python 3",
   "language": "python",
   "name": "python3"
  },
  "language_info": {
   "codemirror_mode": {
    "name": "ipython",
    "version": 3
   },
   "file_extension": ".py",
   "mimetype": "text/x-python",
   "name": "python",
   "nbconvert_exporter": "python",
   "pygments_lexer": "ipython3",
   "version": "3.7.3"
  }
 },
 "nbformat": 4,
 "nbformat_minor": 4
}
