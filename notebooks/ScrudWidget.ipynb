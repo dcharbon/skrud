{
 "cells": [
  {
   "cell_type": "markdown",
   "metadata": {},
   "source": [
    "# A Scrud Widget\n"
   ]
  },
  {
   "cell_type": "code",
   "execution_count": null,
   "metadata": {},
   "outputs": [],
   "source": [
    "import ipywidgets as W, traitlets as T\n",
    "import jsonschema"
   ]
  },
  {
   "cell_type": "code",
   "execution_count": null,
   "metadata": {},
   "outputs": [],
   "source": [
    "with __import__(\"importnb\").Notebook():\n",
    "    from QUDT import Unit, UNITS"
   ]
  },
  {
   "cell_type": "code",
   "execution_count": null,
   "metadata": {},
   "outputs": [],
   "source": [
    "class ScrudBase(W.Widget):\n",
    "    schema = T.Dict().tag(sync=True)\n",
    "    context = T.Dict().tag(sync=True)\n",
    "    frame = T.Dict().tag(sync=True)\n",
    "    \n",
    "    def to_jsonld(self):\n",
    "        return {}"
   ]
  },
  {
   "cell_type": "markdown",
   "metadata": {},
   "source": [
    "This variant handles the common case of validating the `value` against the `schema`."
   ]
  },
  {
   "cell_type": "code",
   "execution_count": null,
   "metadata": {},
   "outputs": [],
   "source": [
    "class ScrudValue(ScrudBase):\n",
    "    unit = T.Instance(Unit, help=\"The unit of the thing\")\n",
    "    \n",
    "    def to_jsonld(self):\n",
    "        return {\n",
    "            \"value\": self.value,\n",
    "            \"unit\": self.unit.uri\n",
    "        }\n",
    "        \n",
    "    @T.validate(\"value\")\n",
    "    def _validate_value(self, proposal):\n",
    "        jsonschema.validate(self.to_jsonld(), self.schema)"
   ]
  },
  {
   "cell_type": "code",
   "execution_count": null,
   "metadata": {},
   "outputs": [],
   "source": []
  }
 ],
 "metadata": {
  "kernelspec": {
   "display_name": "Python 3",
   "language": "python",
   "name": "python3"
  },
  "language_info": {
   "codemirror_mode": {
    "name": "ipython",
    "version": 3
   },
   "file_extension": ".py",
   "mimetype": "text/x-python",
   "name": "python",
   "nbconvert_exporter": "python",
   "pygments_lexer": "ipython3",
   "version": "3.7.3"
  }
 },
 "nbformat": 4,
 "nbformat_minor": 4
}
