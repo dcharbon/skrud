{
 "cells": [
  {
   "cell_type": "markdown",
   "metadata": {},
   "source": [
    "# SKRUD Prototype App\n",
    "> A SKRUD client would _probably_ be implemented in static JS/CSS/HTML. This one uses a kernel per user with `voila`, and implements most of the transformations from the python side \n",
    ">> ...for now"
   ]
  },
  {
   "cell_type": "code",
   "execution_count": null,
   "metadata": {},
   "outputs": [],
   "source": [
    "import re, traitlets as T, ipywidgets as W\n",
    "from tornado import escape, httpclient, ioloop\n",
    "from pyld import jsonld\n",
    "from yaml import safe_dump\n",
    "import random"
   ]
  },
  {
   "cell_type": "code",
   "execution_count": null,
   "metadata": {},
   "outputs": [],
   "source": [
    "class ScrudClient(W.Textarea):\n",
    "    value_parsed = T.Dict().tag(sync=True)\n",
    "    context = T.Dict().tag(sync=True)\n",
    "    schema = T.Dict().tag(sync=True)\n",
    "    url = T.Unicode().tag(sync=True)\n",
    "    headers = W.trait_types.TypedTuple(\n",
    "        trait=T.Tuple(T.Unicode(), T.Unicode())\n",
    "    ).tag(sync=True)\n",
    "    _client = T.Instance(httpclient.AsyncHTTPClient)\n",
    "    _token = T.Unicode()\n",
    "\n",
    "    @T.default(\"_client\")\n",
    "    def _default_client(self):\n",
    "        return httpclient.AsyncHTTPClient()\n",
    "        \n",
    "    @T.observe(\"url\", \"token\")\n",
    "    def _on_url(self, _):\n",
    "        ioloop.IOLoop.instance().spawn_callback(lambda: self._do_fetch())\n",
    "    \n",
    "    def _client_headers(self):\n",
    "        return {\n",
    "            \"Authorization\": f\"token {self._token}\"\n",
    "        }\n",
    "        \n",
    "    async def _do_fetch(self):\n",
    "        try:\n",
    "            r = await self._client.fetch(self.url, headers=self._client_headers())\n",
    "        except Exception as err:\n",
    "            self.value = safe_dump({\"error\": f\"{err}\"})\n",
    "            return\n",
    "        \n",
    "        self.value_parsed = escape.json_decode(r.body)\n",
    "        self.value = safe_dump(self.value_parsed)\n",
    "        self.headers = list(r.headers.get_all())\n",
    "        for match in [\n",
    "            re.match(r'<(?P<href>.*)>.*rel=\"(?P<rel>[^\"]*)\"', link)\n",
    "            for link in r.headers.get_list(\"Link\")\n",
    "        ]:\n",
    "            if match is None:\n",
    "                return\n",
    "            groups = match.groupdict()\n",
    "            if groups[\"rel\"] == \"http://www.w3.org/ns/json-ld#context\":\n",
    "                try:\n",
    "                    self.context = escape.json_decode((await self._client.fetch(groups[\"href\"], \n",
    "                                                                                headers=self._client_headers()\n",
    "                                                                               )).body)\n",
    "                except Exception as err:\n",
    "                    self.context = {\"errors\": [f\"{err}\"]}\n",
    "            elif groups[\"rel\"] == \"describedBy\":\n",
    "                try:\n",
    "                    self.schema = escape.json_decode((await self._client.fetch(groups[\"href\"], \n",
    "                                                                                headers=self._client_headers())).body)\n",
    "                except Exception as err:\n",
    "                    self.schema = {\"errors\": [f\"{err}\"]}"
   ]
  },
  {
   "cell_type": "code",
   "execution_count": null,
   "metadata": {},
   "outputs": [],
   "source": [
    "url = W.Text(\n",
    "    value=\"http://localhost:8877/cpu-temp\",\n",
    "    description=\"SCRUD URL\"\n",
    ")\n",
    "token = W.Text(description=\"Token\")\n",
    "client = ScrudClient(description=\"Document\", rows=16, layout=dict(width=\"100%\"))\n",
    "schema = W.Textarea(description=\"Schema\", rows=16, layout=dict(width=\"100%\"))\n",
    "context = W.Textarea(description=\"Context\", rows=16, layout=dict(width=\"100%\"))\n",
    "headers = W.Textarea(description=\"Headers\", rows=16, layout=dict(width=\"100%\"))\n",
    "fetch_button = W.Button(description=\"Fetch\")"
   ]
  },
  {
   "cell_type": "code",
   "execution_count": null,
   "metadata": {},
   "outputs": [],
   "source": [
    "T.dlink((client, \"schema\"), (schema, \"value\"), safe_dump)\n",
    "T.dlink((client, \"context\"), (context, \"value\"), safe_dump)\n",
    "T.dlink((client, \"headers\"), (headers, \"value\"), safe_dump)\n",
    "T.dlink((token, \"value\"), (client, \"_token\"))\n",
    "T.dlink((url, \"value\"), (client, \"url\"));"
   ]
  },
  {
   "cell_type": "code",
   "execution_count": null,
   "metadata": {},
   "outputs": [],
   "source": [
    "def _on_click(_):\n",
    "    client.url = client.url.split(\"#\")[0] + f\"#{random.random()}\"\n",
    "fetch_button.on_click(_on_click)"
   ]
  },
  {
   "cell_type": "code",
   "execution_count": null,
   "metadata": {},
   "outputs": [],
   "source": [
    "W.VBox([\n",
    "    W.HBox([url, token, fetch_button]), \n",
    "    W.HBox([\n",
    "        client,\n",
    "        headers,\n",
    "    ]),\n",
    "    W.HBox([\n",
    "        schema, \n",
    "        context\n",
    "    ])\n",
    "])"
   ]
  },
  {
   "cell_type": "code",
   "execution_count": null,
   "metadata": {},
   "outputs": [],
   "source": []
  }
 ],
 "metadata": {
  "kernelspec": {
   "display_name": "Python 3",
   "language": "python",
   "name": "python3"
  },
  "language_info": {
   "codemirror_mode": {
    "name": "ipython",
    "version": 3
   },
   "file_extension": ".py",
   "mimetype": "text/x-python",
   "name": "python",
   "nbconvert_exporter": "python",
   "pygments_lexer": "ipython3",
   "version": "3.7.3"
  }
 },
 "nbformat": 4,
 "nbformat_minor": 4
}
