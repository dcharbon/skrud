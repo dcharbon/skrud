{
 "cells": [
  {
   "cell_type": "markdown",
   "metadata": {},
   "source": [
    "# SKRUD Prototype App\n",
    "> A SKRUD client would _probably_ be implemented in static JS/CSS/HTML. This one uses a kernel per user with `voila`, and implements most of the transformations from the python side \n",
    ">> ...for now"
   ]
  },
  {
   "cell_type": "code",
   "execution_count": null,
   "metadata": {},
   "outputs": [],
   "source": [
    "import re, traitlets as T, ipywidgets as W\n",
    "from tornado import escape, httpclient, ioloop\n",
    "from pyld import jsonld\n",
    "from yaml import safe_dump\n",
    "import random"
   ]
  },
  {
   "cell_type": "code",
   "execution_count": null,
   "metadata": {},
   "outputs": [],
   "source": [
    "RENDERERS = []"
   ]
  },
  {
   "cell_type": "code",
   "execution_count": null,
   "metadata": {},
   "outputs": [],
   "source": [
    "DOC_REL = \"http://www.w3.org/ns/hydra/core#apiDocumentation\"\n",
    "CTX_REL = \"http://www.w3.org/ns/json-ld#context\"\n",
    "SCM_REL = \"describedBy\""
   ]
  },
  {
   "cell_type": "code",
   "execution_count": null,
   "metadata": {},
   "outputs": [],
   "source": [
    "class ScrudClient(W.Textarea):\n",
    "    value_parsed = T.Dict().tag(sync=True)\n",
    "    context = T.Dict().tag(sync=True)\n",
    "    schema = T.Dict().tag(sync=True)\n",
    "    url = T.Unicode().tag(sync=True)\n",
    "    doc = T.Dict().tag(sync=True)\n",
    "    headers = W.trait_types.TypedTuple(\n",
    "        trait=T.Tuple(T.Unicode(), T.Unicode())\n",
    "    ).tag(sync=True)\n",
    "    _client = T.Instance(httpclient.AsyncHTTPClient)\n",
    "    _token = T.Unicode()\n",
    "\n",
    "    @T.default(\"_client\")\n",
    "    def _default_client(self):\n",
    "        return httpclient.AsyncHTTPClient()\n",
    "        \n",
    "    @T.observe(\"url\", \"token\")\n",
    "    def _on_url(self, _):\n",
    "        ioloop.IOLoop.instance().spawn_callback(lambda: self._do_fetch())\n",
    "    \n",
    "    def _client_headers(self):\n",
    "        return {\n",
    "            \"Authorization\": f\"token {self._token}\"\n",
    "        }\n",
    "    \n",
    "    async def _fetch_doc(self, url):\n",
    "        print(url)\n",
    "        try:\n",
    "            response = await self._client.fetch(url, headers=self._client_headers())\n",
    "        except Exception as err:\n",
    "            return {\"errors\": [{\"@type\": \"Error\", \"description\": f\"{err}\"}]}\n",
    "        try:\n",
    "            decoded = escape.json_decode(response.body)\n",
    "        except Exception as err:\n",
    "            return {\"errors\": [{\"@type\": \"Error\", \"description\": f\"{err}\"}]}\n",
    "        \n",
    "        return decoded\n",
    "        \n",
    "    async def _do_fetch(self):\n",
    "        try:\n",
    "            r = await self._client.fetch(self.url, headers=self._client_headers())\n",
    "        except Exception as err:\n",
    "            self.value = safe_dump({\"error\": f\"{err}\"})\n",
    "            return\n",
    "        \n",
    "        self.value_parsed = escape.json_decode(r.body)\n",
    "        self.value = safe_dump(self.value_parsed)\n",
    "        self.headers = list(r.headers.get_all())\n",
    "        for match in [\n",
    "            re.match(r'<(?P<href>.*)>.*rel=\"(?P<rel>[^\"]*)\"', link)\n",
    "            for link in r.headers.get_list(\"Link\")\n",
    "        ]:\n",
    "            if match is None:\n",
    "                return\n",
    "            groups = match.groupdict()\n",
    "            rel = groups[\"rel\"]\n",
    "            href = groups[\"href\"]\n",
    "            if rel == CTX_REL:\n",
    "                self.context = await self._fetch_doc(href)\n",
    "            elif rel == DOC_REL:\n",
    "                self.doc = await self._fetch_doc(href)\n",
    "            elif rel == SCM_REL:\n",
    "                self.schema = await self._fetch_doc(href)"
   ]
  },
  {
   "cell_type": "code",
   "execution_count": null,
   "metadata": {},
   "outputs": [],
   "source": [
    "url = W.Text(\n",
    "    value=\"http://localhost:8877/scrud/cpu-temp\",\n",
    "    description=\"SCRUD URL\"\n",
    ")\n",
    "layout = dict(rows=10, disabled=True, layout=dict(width=\"100%\"))\n",
    "token = W.Text(description=\"Token\")\n",
    "client = ScrudClient(description=\"Document\", **layout)\n",
    "schema = W.Textarea(description=\"Schema\", **layout)\n",
    "context = W.Textarea(description=\"Context\", **layout)\n",
    "headers = W.Textarea(description=\"Headers\", **layout)\n",
    "doc = W.Textarea(description=\"API Doc\", **layout)\n",
    "fetch_button = W.Button(description=\"Fetch\")"
   ]
  },
  {
   "cell_type": "code",
   "execution_count": null,
   "metadata": {},
   "outputs": [],
   "source": [
    "T.dlink((client, \"schema\"), (schema, \"value\"), safe_dump)\n",
    "T.dlink((client, \"context\"), (context, \"value\"), safe_dump)\n",
    "T.dlink((client, \"headers\"), (headers, \"value\"), safe_dump)\n",
    "T.dlink((client, \"doc\"), (doc, \"value\"), safe_dump)\n",
    "T.dlink((token, \"value\"), (client, \"_token\"))\n",
    "T.dlink((url, \"value\"), (client, \"url\"));"
   ]
  },
  {
   "cell_type": "code",
   "execution_count": null,
   "metadata": {},
   "outputs": [],
   "source": [
    "def _on_click(_):\n",
    "    client.url = client.url.split(\"#\")[0] + f\"#{random.random()}\"\n",
    "fetch_button.on_click(_on_click)"
   ]
  },
  {
   "cell_type": "code",
   "execution_count": null,
   "metadata": {},
   "outputs": [],
   "source": [
    "class WidgetPicker(W.HBox):\n",
    "    client = T.Instance(ScrudClient, allow_none=True)\n",
    "    \n",
    "    def __init__(self, *args, **kwargs):\n",
    "        super().__init__(*args, **kwargs)\n",
    "        self.options = W.SelectMultiple()\n",
    "        self.widgets = W.VBox()\n",
    "        self.children = [\n",
    "            self.options,\n",
    "            self.widgets\n",
    "        ]\n",
    "        self.options.observe(self.options_changed, 'value')\n",
    "    \n",
    "    def options_changed(self, change):\n",
    "        widgets = self.widgets.children\n",
    "        for widget in widgets:\n",
    "            del widget\n",
    "        widgets = []\n",
    "        for value in self.options.value:\n",
    "            widgets += [W.HTML(value)]\n",
    "        self.widgets.children = widgets\n",
    "    \n",
    "    @T.observe(\"client\")\n",
    "    def client_changed(self, change):\n",
    "        self.client.observe(self.doc_changed, \"doc\")\n",
    "    \n",
    "    def doc_changed(self, change):\n",
    "        \"\"\"\n",
    "        ask the registry for the renderers that are appropriate for where:\n",
    "        - a renderer registers for one or more `@type`\n",
    "            - after expanding the resource with its context \n",
    "            - and the resource matches one of the fully-expanded types\n",
    "        - ...\n",
    "            - use the resource's context to expand the document\n",
    "            - frame the expanded document with a renderer-provided frame\n",
    "            - validate the framed document with the renderer's schema\n",
    "        \"\"\"\n",
    "        self.options.options = [\"TODO: find widgets\", \"FIXME: by their frameable type\"]\n",
    "        return\n",
    "        resource = self.client.value_parsed \n",
    "        for renderer in RENDERERS:\n",
    "            try:\n",
    "                framed = jsonld.frame(resource, renderer.frame)\n",
    "                jsonschema.validate(framed, renderer.schema)\n",
    "                return renderer(framed)\n",
    "            except:\n",
    "                pass"
   ]
  },
  {
   "cell_type": "code",
   "execution_count": null,
   "metadata": {},
   "outputs": [],
   "source": [
    "picker = WidgetPicker()\n",
    "picker.client = client"
   ]
  },
  {
   "cell_type": "code",
   "execution_count": null,
   "metadata": {},
   "outputs": [],
   "source": [
    "details = W.Accordion([\n",
    "    W.HBox([client, headers]),\n",
    "    W.HBox([schema, context, doc])\n",
    "], _titles={0: \"Document\", 1: \"Linked Documents\"})"
   ]
  },
  {
   "cell_type": "code",
   "execution_count": null,
   "metadata": {},
   "outputs": [],
   "source": [
    "W.VBox([\n",
    "    W.HBox([url, token, fetch_button]),\n",
    "    picker,\n",
    "    details\n",
    "])"
   ]
  }
 ],
 "metadata": {
  "kernelspec": {
   "display_name": "Python 3",
   "language": "python",
   "name": "python3"
  },
  "language_info": {
   "codemirror_mode": {
    "name": "ipython",
    "version": 3
   },
   "file_extension": ".py",
   "mimetype": "text/x-python",
   "name": "python",
   "nbconvert_exporter": "python",
   "pygments_lexer": "ipython3",
   "version": "3.7.3"
  }
 },
 "nbformat": 4,
 "nbformat_minor": 4
}
