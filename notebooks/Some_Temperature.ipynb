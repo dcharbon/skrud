{
 "cells": [
  {
   "cell_type": "code",
   "execution_count": 8,
   "metadata": {},
   "outputs": [],
   "source": [
    "import psutil\n",
    "import pprint\n",
    "import pandas as pd"
   ]
  },
  {
   "cell_type": "code",
   "execution_count": 2,
   "metadata": {},
   "outputs": [
    {
     "data": {
      "text/plain": [
       "scpustats(ctx_switches=1808911, interrupts=1099127, soft_interrupts=1243725, syscalls=0)"
      ]
     },
     "execution_count": 2,
     "metadata": {},
     "output_type": "execute_result"
    }
   ],
   "source": [
    "psutil.cpu_stats()"
   ]
  },
  {
   "cell_type": "code",
   "execution_count": 7,
   "metadata": {},
   "outputs": [
    {
     "name": "stdout",
     "output_type": "stream",
     "text": [
      "{'acpitz': [shwtemp(label='', current=27.8, high=105.0, critical=105.0),\n",
      "            shwtemp(label='', current=-267.2, high=105.0, critical=105.0)],\n",
      " 'coretemp': [shwtemp(label='Package id 0', current=59.0, high=84.0, critical=100.0),\n",
      "              shwtemp(label='Core 0', current=59.0, high=84.0, critical=100.0),\n",
      "              shwtemp(label='Core 1', current=58.0, high=84.0, critical=100.0),\n",
      "              shwtemp(label='Core 2', current=58.0, high=84.0, critical=100.0),\n",
      "              shwtemp(label='Core 3', current=59.0, high=84.0, critical=100.0)],\n",
      " 'pch_haswell': [shwtemp(label='', current=63.5, high=None, critical=None)]}\n"
     ]
    }
   ],
   "source": [
    "pprint.pprint(psutil.sensors_temperatures())"
   ]
  },
  {
   "cell_type": "code",
   "execution_count": 4,
   "metadata": {},
   "outputs": [
    {
     "data": {
      "text/plain": [
       "sbattery(percent=12.875288683602772, secsleft=<BatteryTime.POWER_TIME_UNLIMITED: -2>, power_plugged=True)"
      ]
     },
     "execution_count": 4,
     "metadata": {},
     "output_type": "execute_result"
    }
   ],
   "source": [
    "psutil.sensors_battery()"
   ]
  }
 ],
 "metadata": {
  "kernelspec": {
   "display_name": "Python 3",
   "language": "python",
   "name": "python3"
  },
  "language_info": {
   "codemirror_mode": {
    "name": "ipython",
    "version": 3
   },
   "file_extension": ".py",
   "mimetype": "text/x-python",
   "name": "python",
   "nbconvert_exporter": "python",
   "pygments_lexer": "ipython3",
   "version": "3.7.3"
  }
 },
 "nbformat": 4,
 "nbformat_minor": 2
}
