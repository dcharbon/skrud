{
 "cells": [
  {
   "cell_type": "code",
   "execution_count": 2,
   "metadata": {},
   "outputs": [],
   "source": [
    "import psutil\n",
    "import pprint\n",
    "import pandas as pd"
   ]
  },
  {
   "cell_type": "code",
   "execution_count": 3,
   "metadata": {},
   "outputs": [
    {
     "data": {
      "text/plain": [
       "scpustats(ctx_switches=64962665, interrupts=32996118, soft_interrupts=38758932, syscalls=0)"
      ]
     },
     "execution_count": 3,
     "metadata": {},
     "output_type": "execute_result"
    }
   ],
   "source": [
    "psutil.cpu_stats()"
   ]
  },
  {
   "cell_type": "code",
   "execution_count": 4,
   "metadata": {},
   "outputs": [
    {
     "name": "stdout",
     "output_type": "stream",
     "text": [
      "{'acpitz': [shwtemp(label='', current=27.8, high=105.0, critical=105.0),\n",
      "            shwtemp(label='', current=-266.2, high=105.0, critical=105.0)],\n",
      " 'coretemp': [shwtemp(label='Package id 0', current=65.0, high=84.0, critical=100.0),\n",
      "              shwtemp(label='Core 0', current=65.0, high=84.0, critical=100.0),\n",
      "              shwtemp(label='Core 1', current=62.0, high=84.0, critical=100.0),\n",
      "              shwtemp(label='Core 2', current=65.0, high=84.0, critical=100.0),\n",
      "              shwtemp(label='Core 3', current=65.0, high=84.0, critical=100.0)],\n",
      " 'pch_haswell': [shwtemp(label='', current=65.0, high=None, critical=None)]}\n"
     ]
    }
   ],
   "source": [
    "pprint.pprint(psutil.sensors_temperatures())"
   ]
  },
  {
   "cell_type": "code",
   "execution_count": 6,
   "metadata": {},
   "outputs": [
    {
     "data": {
      "text/plain": [
       "sbattery(percent=66.68591224018476, secsleft=3210, power_plugged=False)"
      ]
     },
     "execution_count": 6,
     "metadata": {},
     "output_type": "execute_result"
    }
   ],
   "source": [
    "psutil.sensors_battery()"
   ]
  },
  {
   "cell_type": "code",
   "execution_count": null,
   "metadata": {},
   "outputs": [],
   "source": []
  }
 ],
 "metadata": {
  "kernelspec": {
   "display_name": "Python 3",
   "language": "python",
   "name": "python3"
  },
  "language_info": {
   "codemirror_mode": {
    "name": "ipython",
    "version": 3
   },
   "file_extension": ".py",
   "mimetype": "text/x-python",
   "name": "python",
   "nbconvert_exporter": "python",
   "pygments_lexer": "ipython3",
   "version": "3.7.3"
  }
 },
 "nbformat": 4,
 "nbformat_minor": 4
}
