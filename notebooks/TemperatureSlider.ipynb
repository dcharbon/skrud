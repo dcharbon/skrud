{
 "cells": [
  {
   "cell_type": "markdown",
   "metadata": {},
   "source": [
    "# A Temperature Reading"
   ]
  },
  {
   "cell_type": "code",
   "execution_count": 2,
   "metadata": {},
   "outputs": [],
   "source": [
    "with __import__(\"importnb\").Notebook():\n",
    "    from ScrudWidget import T, W, ScrudValue, UNITS"
   ]
  },
  {
   "cell_type": "code",
   "execution_count": 15,
   "metadata": {},
   "outputs": [],
   "source": [
    "class TemperatureSlider(W.FloatSlider, ScrudValue):\n",
    "    @T.default(\"unit\")\n",
    "    def _default_unit(self):\n",
    "        return UNITS['DEG']\n",
    "    \n",
    "    @T.default(\"schema\")\n",
    "    def _default_schema(self):\n",
    "        return {\n",
    "            \"properties\": {\n",
    "                \"value\": {\"type\": \"number\"},\n",
    "                \"unit\": {\"type\": \"string\"}\n",
    "            }\n",
    "        }\n",
    "    \n",
    "    @T.default(\"context\")\n",
    "    def _default_context(self):\n",
    "        return {\n",
    "            \"@context\": {\n",
    "                \"qudt\": \"http://qudt.org/schema/qudt/\",\n",
    "                \"xsd\": \"http://www.w3.org/2001/XMLSchema#\",\n",
    "                \"value\": {\n",
    "                    \"@type\": \"xsd:float\",\n",
    "                    \"@id\": \"qudt:Quantity\"\n",
    "                },\n",
    "                \"unit\": {\n",
    "                    \"@type\": \"@id\",\n",
    "                    \"@id\": \"qudt:Unit\"\n",
    "                }\n",
    "            }\n",
    "        }\n",
    "    \n",
    "    @T.default(\"frame\")\n",
    "    def _default_frame(self):\n",
    "        return {\n",
    "            \"temperature\": {\n",
    "                \"value\": \"qudt:Temperature\"\n",
    "            }\n",
    "        }"
   ]
  }
 ],
 "metadata": {
  "kernelspec": {
   "display_name": "Python 3",
   "language": "python",
   "name": "python3"
  },
  "language_info": {
   "codemirror_mode": {
    "name": "ipython",
    "version": 3
   },
   "file_extension": ".py",
   "mimetype": "text/x-python",
   "name": "python",
   "nbconvert_exporter": "python",
   "pygments_lexer": "ipython3",
   "version": "3.7.3"
  }
 },
 "nbformat": 4,
 "nbformat_minor": 4
}
