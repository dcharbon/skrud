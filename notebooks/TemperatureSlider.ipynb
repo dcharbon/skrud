{
 "cells": [
  {
   "cell_type": "markdown",
   "metadata": {},
   "source": [
    "# A Temperature Reading"
   ]
  },
  {
   "cell_type": "code",
   "execution_count": 4,
   "metadata": {},
   "outputs": [],
   "source": [
    "with __import__(\"importnb\").Notebook():\n",
    "    from ScrudWidget import T, W, ScrudValue"
   ]
  },
  {
   "cell_type": "code",
   "execution_count": 5,
   "metadata": {},
   "outputs": [],
   "source": [
    "class TemperatureSlider(W.FloatSlider, ScrudValue):\n",
    "    @T.default(\"schema\")\n",
    "    def _default_schema(self):\n",
    "        return {\n",
    "            \"properties\": {\n",
    "                \"value\": {\n",
    "                    \"type\": \"number\"\n",
    "                }\n",
    "            }\n",
    "        }\n",
    "    \n",
    "    @T.default(\"context\")\n",
    "    def _default_context(self):\n",
    "        return {\n",
    "            \"@context\": {\n",
    "                \"qudt\": \"http://qudt.org/schema/qudt#\",\n",
    "                \"value\": {\"@type\": \"qudt:Temperature\"}\n",
    "            }\n",
    "        }\n",
    "    \n",
    "    @T.default(\"frame\")\n",
    "    def _default_frame(self):\n",
    "        return {\n",
    "            \"temperature\": {\n",
    "                \"value\": \"qudt:Temperature\"\n",
    "            }\n",
    "        }"
   ]
  },
  {
   "cell_type": "code",
   "execution_count": 8,
   "metadata": {},
   "outputs": [
    {
     "data": {
      "application/vnd.jupyter.widget-view+json": {
       "model_id": "d43205fbc6ae42728f61a2018e04e322",
       "version_major": 2,
       "version_minor": 0
      },
      "text/plain": [
       "TemperatureSlider(value=0.0, context={'@context': {'qudt': 'http://qudt.org/schema/qudt#', 'value': {'@type': …"
      ]
     },
     "metadata": {},
     "output_type": "display_data"
    }
   ],
   "source": [
    "if __name__ == \"__main__\":\n",
    "    temp = TemperatureSlider()\n",
    "    display(temp)"
   ]
  }
 ],
 "metadata": {
  "kernelspec": {
   "display_name": "Python 3",
   "language": "python",
   "name": "python3"
  },
  "language_info": {
   "codemirror_mode": {
    "name": "ipython",
    "version": 3
   },
   "file_extension": ".py",
   "mimetype": "text/x-python",
   "name": "python",
   "nbconvert_exporter": "python",
   "pygments_lexer": "ipython3",
   "version": "3.7.3"
  }
 },
 "nbformat": 4,
 "nbformat_minor": 2
}
