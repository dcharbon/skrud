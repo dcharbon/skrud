{
 "cells": [
  {
   "cell_type": "code",
   "execution_count": 1,
   "metadata": {},
   "outputs": [
    {
     "name": "stderr",
     "output_type": "stream",
     "text": [
      "[I 15:03:06.616 NotebookApp] JupyterLab extension loaded from /home/weg/Documents/work/qs/skrud/envs/default/lib/python3.7/site-packages/jupyterlab\n",
      "[I 15:03:06.617 NotebookApp] JupyterLab application directory is /home/weg/Documents/work/qs/skrud/envs/default/share/jupyter/lab\n"
     ]
    }
   ],
   "source": [
    "with __import__(\"importnb\").Notebook():\n",
    "    import API"
   ]
  },
  {
   "cell_type": "markdown",
   "metadata": {},
   "source": [
    "# [Try it in _Voila_](/voila/render/notebooks/APP)\n",
    "\n",
    "You should be running a `voila` server right next to this lab app.\n",
    "\n",
    "> You'll need to copy that `token` there and paste it into the _Token_ box!"
   ]
  },
  {
   "cell_type": "markdown",
   "metadata": {},
   "source": [
    "## Trying it out\n",
    "\n",
    "> need to figure out what to do with the token, soon"
   ]
  },
  {
   "cell_type": "markdown",
   "metadata": {},
   "source": [
    "Because _internet_, you may not have direct accesibility to the newly-opened port. But it should be resolvable locally."
   ]
  },
  {
   "cell_type": "code",
   "execution_count": 2,
   "metadata": {},
   "outputs": [
    {
     "name": "stdout",
     "output_type": "stream",
     "text": [
      "http://localhost:8877/scrud/doc?token=9909c3ba-8bc1-431e-a0bc-7171c2bd09c0\n"
     ]
    },
    {
     "data": {
      "text/plain": [
       "{'@type': 'ApiDocumentation',\n",
       " '@id': 'http://localhost:8877/scrud/doc',\n",
       " 'supportedClass': [{'@id': 'qudt:QuantitativeValue',\n",
       "   'supportedOperation': [{'@type': 'Operation',\n",
       "     '@id': 'http://localhost:8877/scrud/cpu-temp',\n",
       "     'title': 'Retrieve a temperature',\n",
       "     'method': 'GET',\n",
       "     'returns': 'qudt:QuantitativeValue'}]},\n",
       "  {'@id': 'Observation',\n",
       "   'supportedOperation': [{'@type': 'Operation',\n",
       "     '@id': 'http://localhost:8877/scrud/some-dataframe',\n",
       "     'title': 'Retrieve a number of temperatures',\n",
       "     'method': 'GET',\n",
       "     'returns': 'Observation'}]}]}"
      ]
     },
     "metadata": {},
     "output_type": "display_data"
    },
    {
     "data": {
      "text/plain": [
       "{'Server': 'TornadoServer/5.1.1',\n",
       " 'Content-Type': 'application/json; charset=UTF-8',\n",
       " 'Date': 'Thu, 25 Apr 2019 19:03:09 GMT',\n",
       " 'X-Content-Type-Options': 'nosniff',\n",
       " 'Content-Security-Policy': \"frame-ancestors 'self'; report-uri /api/security/csp-report\",\n",
       " 'Access-Control-Allow-Origin': '',\n",
       " 'Link': '<http://localhost:8877/scrud/doc>; rel=\"http://www.w3.org/ns/hydra/core#apiDocumentation\"; type=\"application/ld+json\",<http://localhost:8877/scrud/doc/@context>; rel=\"http://www.w3.org/ns/json-ld#context\"; type=\"application/ld+json\",<http://localhost:8877/scrud/doc/$schema>; rel=\"describedBy\"; type=\"application/json\"',\n",
       " 'Etag': '\"3a7669d684f3efa191645263661dcab56d8340cf\"',\n",
       " 'Content-Length': '524',\n",
       " 'Set-Cookie': 'username-localhost-8877=\"2|1:0|10:1556218989|23:username-localhost-8877|44:ZTlmNTAwNTBkNzI2NDgzZmExMDk2Yzk3M2M1NjAxZjk=|a80f44c3ec003f2f6a6d02fc9eb06a91f0bca11ee8226b1a94158ca4a28a9e8d\"; expires=Sat, 25 May 2019 19:03:09 GMT; HttpOnly; Path=/',\n",
       " 'Connection': 'close'}"
      ]
     },
     "metadata": {},
     "output_type": "display_data"
    },
    {
     "name": "stderr",
     "output_type": "stream",
     "text": [
      "[I 15:03:15.334 NotebookApp] 302 GET /scrud/cpu-temp (::1) 1.67ms\n",
      "[I 15:58:06.523 NotebookApp] 302 GET /scrud/cpu-temp (::1) 1.03ms\n",
      "[I 15:58:17.341 NotebookApp] 302 GET /scrud/cpu-temp (::1) 1.00ms\n",
      "[I 16:00:42.111 NotebookApp] 302 GET /scrud/cpu-temp (::1) 0.85ms\n",
      "[I 16:00:52.302 NotebookApp] 302 GET /scrud/cpu-temp (::1) 1.38ms\n"
     ]
    }
   ],
   "source": [
    "doc, doc_headers = await API.fetch(\"doc\")\n",
    "display(doc, doc_headers)"
   ]
  },
  {
   "cell_type": "code",
   "execution_count": null,
   "metadata": {},
   "outputs": [],
   "source": [
    "if __name__ == \"__main__\":\n",
    "    ctx, ctx_headers = await API.fetch(\"cpu-temp\", \"@context\")\n",
    "    display(ctx, ctx_headers)"
   ]
  },
  {
   "cell_type": "code",
   "execution_count": null,
   "metadata": {},
   "outputs": [],
   "source": [
    "if __name__ == \"__main__\":\n",
    "    schema, schema_headers = await fetch(\"$schema\")\n",
    "    display(schema, schema_headers)"
   ]
  }
 ],
 "metadata": {
  "kernelspec": {
   "display_name": "Python 3",
   "language": "python",
   "name": "python3"
  },
  "language_info": {
   "codemirror_mode": {
    "name": "ipython",
    "version": 3
   },
   "file_extension": ".py",
   "mimetype": "text/x-python",
   "name": "python",
   "nbconvert_exporter": "python",
   "pygments_lexer": "ipython3",
   "version": "3.7.3"
  }
 },
 "nbformat": 4,
 "nbformat_minor": 4
}
