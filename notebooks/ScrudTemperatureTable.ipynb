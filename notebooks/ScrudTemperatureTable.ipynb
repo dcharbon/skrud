{
 "cells": [
  {
   "cell_type": "markdown",
   "metadata": {},
   "source": [
    "# A Table of Temperatures"
   ]
  },
  {
   "cell_type": "code",
   "execution_count": 5,
   "metadata": {},
   "outputs": [],
   "source": [
    "import pandas as pd\n",
    "import psutil\n",
    "from notebook.utils import url_path_join as ujoin\n",
    "with __import__(\"importnb\").Notebook():\n",
    "    from ScrudTableHandler import ScrudTableHandler"
   ]
  },
  {
   "cell_type": "markdown",
   "metadata": {},
   "source": [
    "> At present, we return just one handler, but could eventually see the routes organized in a different way."
   ]
  },
  {
   "cell_type": "code",
   "execution_count": 2,
   "metadata": {},
   "outputs": [],
   "source": [
    "def sense():\n",
    "    temps = psutil.sensors_temperatures()\n",
    "    all_temps = [\n",
    "        {\n",
    "            \"category\": _cat, \n",
    "            \"label\": temp.label, \n",
    "            \"current\": temp.current, \n",
    "            \"high\": temp.high, \n",
    "            \"critical\": temp.critical\n",
    "        }\n",
    "        for _cat, cat_temps in temps.items()\n",
    "        for temp in cat_temps\n",
    "    ]\n",
    "    df = pd.DataFrame(all_temps)\n",
    "    return {\n",
    "        \"df\": df,\n",
    "        \"context\": {},\n",
    "        \"schema\": {},\n",
    "        \"frame\": {}\n",
    "    }"
   ]
  },
  {
   "cell_type": "code",
   "execution_count": 3,
   "metadata": {},
   "outputs": [],
   "source": [
    "class TemperatureTableHandler(ScrudTableHandler):\n",
    "    async def value(self):\n",
    "        self._parts = sense()\n",
    "        return await super().value()"
   ]
  },
  {
   "cell_type": "code",
   "execution_count": 4,
   "metadata": {},
   "outputs": [],
   "source": [
    "def default_handlers(scrud, parts=None, prefix=\"some-dataframe\"):\n",
    "    parts = parts or sense()\n",
    "    url = ujoin(scrud.api_base, prefix, r'/?(?P<doc>@context|\\$schema)?/?')\n",
    "    scrud.supports_operation(\"Observation\", {\n",
    "        \"@type\": \"Operation\",\n",
    "        \"@id\": ujoin(scrud.api_url, prefix),\n",
    "        \"title\": \"Retrieve a number of temperature\",\n",
    "        \"method\": \"GET\",\n",
    "        \"returns\": \"Observation\"\n",
    "    })\n",
    "    return [(\n",
    "        url,\n",
    "        TemperatureTableHandler, \n",
    "        dict(parts=parts, scrud=scrud)\n",
    "    )]"
   ]
  }
 ],
 "metadata": {
  "kernelspec": {
   "display_name": "Python 3",
   "language": "python",
   "name": "python3"
  },
  "language_info": {
   "codemirror_mode": {
    "name": "ipython",
    "version": 3
   },
   "file_extension": ".py",
   "mimetype": "text/x-python",
   "name": "python",
   "nbconvert_exporter": "python",
   "pygments_lexer": "ipython3",
   "version": "3.7.3"
  }
 },
 "nbformat": 4,
 "nbformat_minor": 4
}
