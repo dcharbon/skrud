{
 "cells": [
  {
   "cell_type": "markdown",
   "metadata": {},
   "source": [
    "# Up the Skruds\n",
    "\n",
    "Tony and Nick got a lot done. What's next?"
   ]
  },
  {
   "cell_type": "markdown",
   "metadata": {},
   "source": [
    "## Community"
   ]
  },
  {
   "cell_type": "markdown",
   "metadata": {},
   "source": [
    "### Communicating\n",
    "\n",
    "* **Demos.** Show, then tell.\n",
    "* **Meetings.** High-bandwidth, intense and focused, starting __today__.\n",
    "* **Blogs.** Go into the dirty details.\n",
    "* **Standards.** Submit protocols to IETF or W3C."
   ]
  },
  {
   "cell_type": "markdown",
   "metadata": {},
   "source": [
    "### Sharing\n",
    "\n",
    "* Create the repos\n",
    "* Create the mailing lists, gitter, etc.\n",
    "* Attract some attention\n",
    "  * Recognizable brand identity.\n",
    "* Attract contributions!!\n",
    "  * Work our networks\n",
    "  * Look for project sponsors\n",
    "\n",
    "\n",
    "* Make the widgets\n",
    "* Choose and define the vocabularies\n",
    "* Map the vocabularies to widgets"
   ]
  },
  {
   "cell_type": "markdown",
   "metadata": {},
   "source": [
    "### Growing\n",
    "\n",
    "**More Features!!**\n",
    "* Respect inheritance\n",
    "* Leverage RDF class inference\n",
    "* Tool the tools!!!"
   ]
  },
  {
   "cell_type": "markdown",
   "metadata": {},
   "source": [
    "### Supporting\n",
    "\n",
    "Skrud is a lifestyle and a brand.\n",
    "\n",
    "The technology enriches the lifestyle and the brand."
   ]
  },
  {
   "cell_type": "markdown",
   "metadata": {},
   "source": [
    "## Strategic Partnerships\n",
    "\n",
    "### Jupyter\n",
    "\n",
    "* Single user server extensions\n",
    "* JupyterHub services\n",
    "* JupterLab extensions\n",
    "* NBConvert templates\n",
    "* NBFormat linked data context\n",
    "* Jupyter Widgets\n",
    "  * In the Kernel\n",
    "  * As exported static interactive experiences\n",
    "  \n",
    "### Other (Future)\n",
    "\n",
    "* W3C\n",
    "* NumFOCUS\n",
    "* ReadTheDocs\n",
    "* TideLift\n",
    "* Government Agencies\n",
    "* Industry Standards Bodies (OMG, OASIS, etc.)\n"
   ]
  },
  {
   "cell_type": "markdown",
   "metadata": {},
   "source": [
    "## Build the Product\n",
    "\n",
    "There's a market opportunity on the server-side."
   ]
  },
  {
   "cell_type": "markdown",
   "metadata": {},
   "source": [
    "### Why Write Yet Another REST API??\n",
    "\n",
    "**Seriously!** Why do people do this?\n",
    "\n",
    "It's redundant and a waste of resources.\n",
    "\n",
    "The market needs a true resource-oriented managed service."
   ]
  },
  {
   "cell_type": "markdown",
   "metadata": {},
   "source": [
    "### AirTable is nice, but...\n",
    "\n",
    "It's a __walled garden__. Pretty, but, limiting.\n",
    "\n",
    "The market deserves better. __We deserve better.__\n",
    "\n",
    "Kafka, Druid, we can and should be able to use these in our applications."
   ]
  },
  {
   "cell_type": "markdown",
   "metadata": {},
   "source": [
    "### Open Standards, Open Clients\n",
    "\n",
    "#### Server\n",
    "\n",
    "* HTTP\n",
    "  * GraphQL\n",
    "* SCRUD\n",
    "  * JSON Schema Link\n",
    "  * JSON-LD Link\n",
    "  * SCRUD OPTIONS\n",
    "* Enhanced Existing\n",
    "  * Dask, TensorFlow, PyTorch (Compute Graphs)\n",
    "  * SQL Alchemy (Relational DBs)\n",
    "  * Virtuoso, DGraph, Neptune (Graph DBs)\n",
    "  \n",
    "  \n",
    "#### Client\n",
    "\n",
    "* Web Browsers\n",
    "* SCRUD Browsing\n",
    "  * JupyterLab Data Bus\n",
    "  * GraphQL\n",
    "  * Skrud!\n",
    "* SCRUD Viz\n",
    "  * PhosphorJS: Data Grid, Dock Panel, ...\n",
    "  * CytoscapeJS"
   ]
  },
  {
   "cell_type": "markdown",
   "metadata": {},
   "source": [
    "  \n",
    "### Deal with the Real\n",
    "\n",
    "The Enterprise needs **features**\n",
    "\n",
    "* Role-based access control\n",
    "* Role-based UI\n",
    "* Task-focused UI\n",
    "* Resource workflow\n",
    "* Reporting\n",
    "* Backup\n",
    "* Audits\n",
    "* Reliability and Assurance\n",
    "* ..."
   ]
  },
  {
   "cell_type": "code",
   "execution_count": null,
   "metadata": {},
   "outputs": [],
   "source": []
  }
 ],
 "metadata": {
  "kernelspec": {
   "display_name": "Python 3",
   "language": "python",
   "name": "python3"
  },
  "language_info": {
   "codemirror_mode": {
    "name": "ipython",
    "version": 3
   },
   "file_extension": ".py",
   "mimetype": "text/x-python",
   "name": "python",
   "nbconvert_exporter": "python",
   "pygments_lexer": "ipython3",
   "version": "3.6.7"
  }
 },
 "nbformat": 4,
 "nbformat_minor": 2
}
