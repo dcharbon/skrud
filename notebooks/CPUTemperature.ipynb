{
 "cells": [
  {
   "cell_type": "markdown",
   "metadata": {},
   "source": [
    "# CPUTemperature\n",
    "> a little widget for assessing the highest temperature reported by `psutil.sensors_temperatures`\n",
    ">> .. or a random float less than $100.0$"
   ]
  },
  {
   "cell_type": "code",
   "execution_count": null,
   "metadata": {},
   "outputs": [],
   "source": [
    "from psutil import sensors_temperatures\n",
    "import random\n",
    "\n",
    "with __import__(\"importnb\").Notebook():\n",
    "    from TemperatureSlider import TemperatureSlider, T, W"
   ]
  },
  {
   "cell_type": "code",
   "execution_count": null,
   "metadata": {},
   "outputs": [],
   "source": [
    "class CPUTemperatureSlider(TemperatureSlider):\n",
    "    @T.default(\"value\")\n",
    "    def _default_temperature(self) -> float:\n",
    "        return self.read_temperature()\n",
    "    \n",
    "    def read_temperature(self) -> float:\n",
    "        temps = sensors_temperatures()\n",
    "        all_temps = sorted(sum(temps.values(), []), key=lambda x: -x.current)\n",
    "        if all_temps:\n",
    "            return all_temps[0].current\n",
    "        return random.random() * 100\n",
    "        \n",
    "    @property\n",
    "    def updated_value(self) -> float:\n",
    "        self.value = self.read_temperature()\n",
    "        return self.value"
   ]
  },
  {
   "cell_type": "code",
   "execution_count": null,
   "metadata": {},
   "outputs": [],
   "source": [
    "if __name__ == \"__main__\":\n",
    "    temp = CPUTemperatureSlider()\n",
    "    display(temp)"
   ]
  }
 ],
 "metadata": {
  "kernelspec": {
   "display_name": "Python 3",
   "language": "python",
   "name": "python3"
  },
  "language_info": {
   "codemirror_mode": {
    "name": "ipython",
    "version": 3
   },
   "file_extension": ".py",
   "mimetype": "text/x-python",
   "name": "python",
   "nbconvert_exporter": "python",
   "pygments_lexer": "ipython3",
   "version": "3.7.3"
  }
 },
 "nbformat": 4,
 "nbformat_minor": 4
}
