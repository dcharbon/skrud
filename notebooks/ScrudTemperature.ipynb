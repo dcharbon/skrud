{
 "cells": [
  {
   "cell_type": "markdown",
   "metadata": {},
   "source": [
    "# A Scrud Temperature"
   ]
  },
  {
   "cell_type": "code",
   "execution_count": 2,
   "metadata": {},
   "outputs": [],
   "source": [
    "with __import__(\"importnb\").Notebook():\n",
    "    from ScrudWidgetHandler import ScrudWidgetHandler\n",
    "    from CPUTemperature import CPUTemperatureSlider, T, W"
   ]
  },
  {
   "cell_type": "markdown",
   "metadata": {},
   "source": [
    "A handler that triggers some side-effects"
   ]
  },
  {
   "cell_type": "code",
   "execution_count": 6,
   "metadata": {},
   "outputs": [],
   "source": [
    "class TemperatureHandler(ScrudWidgetHandler):\n",
    "    async def value(self):\n",
    "        self._widget.updated_value  # SIDE EFFECT\n",
    "        return await super().value()"
   ]
  },
  {
   "cell_type": "markdown",
   "metadata": {},
   "source": [
    "> At present, we return just one handler, but could eventually see the routes organized in a different way."
   ]
  },
  {
   "cell_type": "code",
   "execution_count": 4,
   "metadata": {},
   "outputs": [],
   "source": [
    "def default_handlers(full_url, base_url, widget=None, prefix=\"cpu-temp\"):\n",
    "    widget = widget or CPUTemperatureSlider(description=\"CPU Temperature\")\n",
    "    return [(\n",
    "        base_url + prefix + r'/?(?P<doc>@context|\\$schema)?/?', \n",
    "        TemperatureHandler, \n",
    "        dict(widget=widget, url_base=f\"{full_url}{prefix}/\")\n",
    "    )]"
   ]
  }
 ],
 "metadata": {
  "kernelspec": {
   "display_name": "Python 3",
   "language": "python",
   "name": "python3"
  },
  "language_info": {
   "codemirror_mode": {
    "name": "ipython",
    "version": 3
   },
   "file_extension": ".py",
   "mimetype": "text/x-python",
   "name": "python",
   "nbconvert_exporter": "python",
   "pygments_lexer": "ipython3",
   "version": "3.7.3"
  }
 },
 "nbformat": 4,
 "nbformat_minor": 2
}
