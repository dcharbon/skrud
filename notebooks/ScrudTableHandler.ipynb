{
 "cells": [
  {
   "cell_type": "markdown",
   "metadata": {},
   "source": [
    "# A ScrudTableHandler\n",
    "> Back a SCRUD-compliant resource with an ipywidget"
   ]
  },
  {
   "cell_type": "code",
   "execution_count": 1,
   "metadata": {},
   "outputs": [],
   "source": [
    "import pandas as pd\n",
    "with __import__(\"importnb\").Notebook():\n",
    "    from ScrudHandler import ScrudHandler"
   ]
  },
  {
   "cell_type": "code",
   "execution_count": 2,
   "metadata": {},
   "outputs": [],
   "source": [
    "class ScrudTableHandler(ScrudHandler):\n",
    "    _parts: dict\n",
    "    \n",
    "    @property\n",
    "    def _df(self):\n",
    "        return self._parts[\"df\"]\n",
    "    \n",
    "    @property\n",
    "    def _context(self):\n",
    "        return self._parts[\"context\"] or {}\n",
    "    \n",
    "    @property\n",
    "    def _schema(self):\n",
    "        return self._parts[\"schema\"] or {}\n",
    "\n",
    "    @property\n",
    "    def _frame(self):\n",
    "        return self._parts[\"frame\"] or {}\n",
    "\n",
    "    def initialize(self, parts, *args, **kwargs):\n",
    "        self._parts = parts\n",
    "        super().initialize(*args, **kwargs)\n",
    "\n",
    "    async def value(self):\n",
    "        return self._df.to_json(orient=\"table\")\n",
    "    \n",
    "    async def schema(self):\n",
    "        return self._schema\n",
    "    \n",
    "    async def frame(self):\n",
    "        return self._frame\n",
    "    \n",
    "    async def context(self):\n",
    "        return self._context"
   ]
  }
 ],
 "metadata": {
  "kernelspec": {
   "display_name": "Python 3",
   "language": "python",
   "name": "python3"
  },
  "language_info": {
   "codemirror_mode": {
    "name": "ipython",
    "version": 3
   },
   "file_extension": ".py",
   "mimetype": "text/x-python",
   "name": "python",
   "nbconvert_exporter": "python",
   "pygments_lexer": "ipython3",
   "version": "3.7.3"
  }
 },
 "nbformat": 4,
 "nbformat_minor": 4
}
