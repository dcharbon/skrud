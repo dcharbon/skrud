{
 "cells": [
  {
   "cell_type": "markdown",
   "metadata": {},
   "source": [
    "# A ScrudWidgetHandler\n",
    "> Back a SCRUD-compliant resource with an ipywidget"
   ]
  },
  {
   "cell_type": "code",
   "execution_count": null,
   "metadata": {},
   "outputs": [],
   "source": [
    "import ipywidgets as W\n",
    "with __import__(\"importnb\").Notebook():\n",
    "    from ScrudHandler import ScrudHandler"
   ]
  },
  {
   "cell_type": "code",
   "execution_count": null,
   "metadata": {},
   "outputs": [],
   "source": [
    "class ScrudWidgetHandler(ScrudHandler):\n",
    "    _widget: W.Widget\n",
    "\n",
    "    def initialize(self, widget, *args, **kwargs):\n",
    "        self._widget = widget\n",
    "        super().initialize(*args, **kwargs)\n",
    "\n",
    "    async def value(self):\n",
    "        return self._widget.to_jsonld()\n",
    "    \n",
    "    async def schema(self):\n",
    "        return self._widget.schema\n",
    "    \n",
    "    async def frame(self):\n",
    "        return self._widget.frame\n",
    "    \n",
    "    async def context(self):\n",
    "        return self._widget.context"
   ]
  }
 ],
 "metadata": {
  "kernelspec": {
   "display_name": "Python 3",
   "language": "python",
   "name": "python3"
  },
  "language_info": {
   "codemirror_mode": {
    "name": "ipython",
    "version": 3
   },
   "file_extension": ".py",
   "mimetype": "text/x-python",
   "name": "python",
   "nbconvert_exporter": "python",
   "pygments_lexer": "ipython3",
   "version": "3.7.3"
  }
 },
 "nbformat": 4,
 "nbformat_minor": 4
}
