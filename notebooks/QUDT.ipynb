{
 "cells": [
  {
   "cell_type": "markdown",
   "metadata": {},
   "source": [
    "# QUDT"
   ]
  },
  {
   "cell_type": "code",
   "execution_count": 201,
   "metadata": {},
   "outputs": [],
   "source": [
    "from pathlib import Path\n",
    "import rdflib, ipywidgets as W, traitlets as T\n",
    "from pyld import jsonld\n",
    "import html\n",
    "from urllib.request import urlretrieve\n",
    "import IPython"
   ]
  },
  {
   "cell_type": "code",
   "execution_count": 94,
   "metadata": {},
   "outputs": [],
   "source": [
    "QUDT_SPEC_URL = \"http://qudt.org/2.0\""
   ]
  },
  {
   "cell_type": "code",
   "execution_count": 95,
   "metadata": {},
   "outputs": [],
   "source": [
    "ONTO = Path(\"ontologies\")\n",
    "QUDT = ONTO / \"QUDT\"\n",
    "QUDTS = QUDT / \"schema\"\n",
    "QUDTV = QUDT / \"vocab\"\n",
    "for qdir in [QUDTS, QUDTV]:\n",
    "    if not qdir.exists():\n",
    "        qdir.mkdir(parents=True)"
   ]
  },
  {
   "cell_type": "code",
   "execution_count": 147,
   "metadata": {},
   "outputs": [],
   "source": [
    "NS = dict(initNs=dict(\n",
    "    rdf=rdflib.RDF,\n",
    "    rdfs=rdflib.RDFS,\n",
    "    qudt=rdflib.URIRef(\"http://qudt.org/schema/qudt/\")\n",
    "))"
   ]
  },
  {
   "cell_type": "code",
   "execution_count": 96,
   "metadata": {},
   "outputs": [],
   "source": [
    "for schema in [\"SCHEMA_QUDT-v2.0.ttl\", \"SCHEMA_QUDT-SCIENCE-v2.0.ttl\"]:\n",
    "    if not (QUDTS / schema).exists():\n",
    "        urlretrieve(f\"{QUDT_SPEC_URL}/schema/{schema}\", QUDTS / schema)"
   ]
  },
  {
   "cell_type": "code",
   "execution_count": 97,
   "metadata": {},
   "outputs": [
    {
     "name": "stdout",
     "output_type": "stream",
     "text": [
      "VOCAB_QUDT-DISCIPLINES-v2.0.ttl\n",
      "VOCAB_QUDT-UNITS-ACOUSTICS-v2.0.ttl\n",
      "VOCAB_QUDT-UNITS-ELECTROMAGNETISM-v2.0.ttl\n",
      "VOCAB_QUDT-UNITS-LIGHT-v2.0.ttl\n",
      "VOCAB_QUDT-UNITS-MECHANICS-v2.0.ttl\n",
      "VOCAB_QUDT-UNITS-PHYSICAL-CHEMISTRY-AND-MOLECULAR-PHYSICS-v2.0.ttl\n",
      "VOCAB_QUDT-UNITS-SPACE-AND-TIME-v2.0.ttl\n",
      "VOCAB_QUDT-UNITS-THERMODYNAMICS-v2.0.ttl\n",
      "VOCAB_QUDT-UNITS-BASE-v2.0.ttl\n"
     ]
    }
   ],
   "source": [
    "vocabs = [\n",
    "    \"DISCIPLINES\",\n",
    "    \"UNITS-ACOUSTICS\",\n",
    "    \"UNITS-ELECTROMAGNETISM\",\n",
    "    \"UNITS-LIGHT\",\n",
    "    \"UNITS-MECHANICS\",\n",
    "    \"UNITS-PHYSICAL-CHEMISTRY-AND-MOLECULAR-PHYSICS\",\n",
    "    \"UNITS-SPACE-AND-TIME\",\n",
    "    \"UNITS-THERMODYNAMICS\",\n",
    "    \"UNITS-BASE\"\n",
    "]\n",
    "for vocab in vocabs:\n",
    "    fname = f\"VOCAB_QUDT-{vocab}-v2.0.ttl\"\n",
    "    print(fname)\n",
    "    if not (QUDTV / fname).exists():\n",
    "        urlretrieve(f\"{QUDT_SPEC_URL}/vocab/{fname}\", QUDTV / fname)"
   ]
  },
  {
   "cell_type": "code",
   "execution_count": 98,
   "metadata": {},
   "outputs": [],
   "source": [
    "G = rdflib.Graph()\n",
    "[G.parse(file=f.open(), format=\"turtle\") for f in ONTO.rglob(\"*.ttl\")];"
   ]
  },
  {
   "cell_type": "code",
   "execution_count": 166,
   "metadata": {},
   "outputs": [
    {
     "data": {
      "text/plain": [
       "683"
      ]
     },
     "execution_count": 166,
     "metadata": {},
     "output_type": "execute_result"
    }
   ],
   "source": [
    "unit_results = list(G.query(\"\"\"\n",
    "SELECT ?uri ?label ?abbrev ?description ?symbol\n",
    "WHERE {\n",
    "    ?uri rdf:type qudt:Unit .\n",
    "    ?uri rdfs:label ?label .\n",
    "    OPTIONAL {\n",
    "        ?uri qudt:abbreviation ?abbrev .\n",
    "        ?uri qudt:description ?description .\n",
    "        ?uri qudt:symbol ?symbol .\n",
    "    }\n",
    "}\n",
    "\"\"\", **NS))\n",
    "len(unit_results)"
   ]
  },
  {
   "cell_type": "code",
   "execution_count": 192,
   "metadata": {},
   "outputs": [],
   "source": [
    "class Unit(T.HasTraits):\n",
    "    uri = T.CUnicode()\n",
    "    label = T.CUnicode(allow_none=True)\n",
    "    description = T.CUnicode(allow_none=True)\n",
    "    abbreviation = T.CUnicode(allow_none=True)\n",
    "    symbol = T.CUnicode(allow_none=True)\n",
    "    \n",
    "    def _repr_html_(self):\n",
    "        min_uri = self.uri.split(\"/\")[-1]\n",
    "        symbol = self.symbol\n",
    "        if not symbol:\n",
    "            symbol = self.abbreviation or self.label or min_uri\n",
    "        return f\"\"\"\n",
    "        <label title=\"{html.escape(self.label or \"\")}: {html.escape(self.description or \"\")}\">\n",
    "            <i>{html.escape(symbol)}</i>\n",
    "        </label>\n",
    "        \"\"\""
   ]
  },
  {
   "cell_type": "code",
   "execution_count": 195,
   "metadata": {},
   "outputs": [],
   "source": [
    "UNITS = {\n",
    "    str(uri).split(\"/\")[-1]: Unit(\n",
    "        uri=uri, \n",
    "        description=description,\n",
    "        abbreviation=abbreviation,\n",
    "        symbol=symbol\n",
    "    )\n",
    "    for uri, label, abbreviation, description, symbol \n",
    "    in unit_results\n",
    "}"
   ]
  }
 ],
 "metadata": {
  "kernelspec": {
   "display_name": "Python 3",
   "language": "python",
   "name": "python3"
  },
  "language_info": {
   "codemirror_mode": {
    "name": "ipython",
    "version": 3
   },
   "file_extension": ".py",
   "mimetype": "text/x-python",
   "name": "python",
   "nbconvert_exporter": "python",
   "pygments_lexer": "ipython3",
   "version": "3.7.3"
  }
 },
 "nbformat": 4,
 "nbformat_minor": 4
}
