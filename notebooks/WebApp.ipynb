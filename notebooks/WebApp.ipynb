{
 "cells": [
  {
   "cell_type": "markdown",
   "metadata": {},
   "source": [
    "# WebApp\n",
    "We'll use a `NotebookApp` for prototyping."
   ]
  },
  {
   "cell_type": "code",
   "execution_count": 1,
   "metadata": {},
   "outputs": [],
   "source": [
    "from uuid import uuid4\n",
    "from notebook.notebookapp import NotebookApp, web"
   ]
  },
  {
   "cell_type": "code",
   "execution_count": 2,
   "metadata": {},
   "outputs": [],
   "source": [
    "def make_notebook_app(port=None, token=None) -> NotebookApp:\n",
    "    PORT = port or 8877\n",
    "    TOKEN = token or str(uuid4())\n",
    "    app = NotebookApp()\n",
    "    app.initialize([\"--port\", f\"{PORT}\", f\"--NotebookApp.token={TOKEN}\"])\n",
    "    return app"
   ]
  },
  {
   "cell_type": "code",
   "execution_count": 3,
   "metadata": {},
   "outputs": [
    {
     "name": "stderr",
     "output_type": "stream",
     "text": [
      "[I 12:19:13.711 NotebookApp] The port 8877 is already in use, trying another port.\n",
      "[I 12:19:13.796 NotebookApp] JupyterLab extension loaded from /home/weg/Documents/projects/deathbeds/wxyz/envs/default/lib/python3.7/site-packages/jupyterlab\n",
      "[I 12:19:13.796 NotebookApp] JupyterLab application directory is /home/weg/Documents/projects/deathbeds/wxyz/envs/default/share/jupyter/lab\n"
     ]
    }
   ],
   "source": [
    "if __name__ == \"__main__\":\n",
    "    app = make_notebook_app()"
   ]
  }
 ],
 "metadata": {
  "kernelspec": {
   "display_name": "Python 3",
   "language": "python",
   "name": "python3"
  },
  "language_info": {
   "codemirror_mode": {
    "name": "ipython",
    "version": 3
   },
   "file_extension": ".py",
   "mimetype": "text/x-python",
   "name": "python",
   "nbconvert_exporter": "python",
   "pygments_lexer": "ipython3",
   "version": "3.7.3"
  }
 },
 "nbformat": 4,
 "nbformat_minor": 2
}
